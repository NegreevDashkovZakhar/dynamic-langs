{
  "cells": [
    {
      "cell_type": "markdown",
      "id": "528d55c1-e531-4a63-9525-697a4f468bcd",
      "metadata": {
        "id": "528d55c1-e531-4a63-9525-697a4f468bcd"
      },
      "source": [
        "# Лабораторная работа №5\n",
        "## Задание:\n",
        "1 . Провести классификацию найденного датасета, методами решающего дерева и случайного леса . В формате Markdown написать пояснения. Объяснить почему были выбраны именно такие гиперпараметры, была ли перекрестная проверка, и т.д."
      ]
    },
    {
      "cell_type": "markdown",
      "id": "5f769e6b-29b9-41d8-afdb-8fb12302d8b1",
      "metadata": {
        "id": "5f769e6b-29b9-41d8-afdb-8fb12302d8b1"
      },
      "source": [
        "## Лабораторная работа:\n",
        "#### Подключение библиотек"
      ]
    },
    {
      "cell_type": "code",
      "execution_count": null,
      "id": "314ef0f7-9ba3-4fe6-8509-24f36244334b",
      "metadata": {
        "id": "314ef0f7-9ba3-4fe6-8509-24f36244334b"
      },
      "outputs": [],
      "source": [
        "import pandas as pd\n",
        "import numpy as np\n",
        "from sklearn.preprocessing import LabelEncoder\n",
        "from sklearn.model_selection import train_test_split, GridSearchCV\n",
        "from sklearn.naive_bayes import GaussianNB, BernoulliNB, MultinomialNB\n",
        "from sklearn.tree import DecisionTreeClassifier\n",
        "from sklearn.ensemble import RandomForestClassifier\n",
        "from sklearn.metrics import accuracy_score, classification_report\n"
      ]
    },
    {
      "cell_type": "markdown",
      "id": "79e7624c-e0a1-4000-b2bf-70c0a7369fb3",
      "metadata": {
        "id": "79e7624c-e0a1-4000-b2bf-70c0a7369fb3"
      },
      "source": [
        "#### Загрузка данных\n"
      ]
    },
    {
      "cell_type": "code",
      "execution_count": null,
      "id": "3faba3d5-8bfc-4890-80a4-1dc1a94752f5",
      "metadata": {
        "id": "3faba3d5-8bfc-4890-80a4-1dc1a94752f5"
      },
      "outputs": [],
      "source": [
        "Dataset = pd.read_csv('cybersecurity_attacks.csv')\n"
      ]
    },
    {
      "cell_type": "markdown",
      "id": "fd5acaea-7be1-4a21-9650-74323ffe4b4e",
      "metadata": {
        "id": "fd5acaea-7be1-4a21-9650-74323ffe4b4e"
      },
      "source": [
        "### Создание искомого столбца"
      ]
    },
    {
      "cell_type": "code",
      "execution_count": null,
      "id": "031cb0bb-9f55-4a76-9c31-c1e5f6ad51bb",
      "metadata": {
        "id": "031cb0bb-9f55-4a76-9c31-c1e5f6ad51bb"
      },
      "outputs": [],
      "source": [
        "label_encoder = LabelEncoder()\n",
        "Dataset['CompTotal Encoded'] = label_encoder.fit_transform(Dataset['CompTotal'])"
      ]
    },
    {
      "cell_type": "markdown",
      "id": "2e60756b-4fb6-4797-b669-ef649d909af4",
      "metadata": {
        "id": "2e60756b-4fb6-4797-b669-ef649d909af4"
      },
      "source": [
        "### Очистка данных"
      ]
    },
    {
      "cell_type": "code",
      "execution_count": null,
      "id": "b1c75ed2-b1f2-4908-ba74-6f7a999c98a2",
      "metadata": {
        "id": "b1c75ed2-b1f2-4908-ba74-6f7a999c98a2"
      },
      "outputs": [],
      "source": [
        "non_numeric_columns = Dataset.select_dtypes(exclude=['number']).columns.tolist()\n",
        "Dataset = Dataset.drop(columns=non_numeric_columns)\n",
        "\n",
        "# Заполнение пустых значений средними значениями\n",
        "columns_to_fill = Dataset.select_dtypes(include=['number']).columns.tolist()\n",
        "for column in columns_to_fill:\n",
        "    mean_value = Dataset[column].mean()\n",
        "    Dataset[column].fillna(mean_value, inplace=True)"
      ]
    },
    {
      "cell_type": "markdown",
      "id": "2ca0747d-dbc4-4271-85a4-ebd60d7608d6",
      "metadata": {
        "id": "2ca0747d-dbc4-4271-85a4-ebd60d7608d6"
      },
      "source": [
        "### Поиск лучших метрик"
      ]
    },
    {
      "cell_type": "code",
      "execution_count": null,
      "id": "b2bf1f85-a7d3-4464-86e9-901345adb33d",
      "metadata": {
        "id": "b2bf1f85-a7d3-4464-86e9-901345adb33d",
        "outputId": "72d4b03d-d553-4515-b191-108703c5b220"
      },
      "outputs": [
        {
          "name": "stdout",
          "output_type": "stream",
          "text": [
            "Decision Tree - Лучшее значение параметра: {'max_depth': None, 'min_samples_leaf': 2, 'min_samples_split': 5}, Точность на тесте: 0.3265\n",
            "Random Forest - Лучшие значения параметров: {'max_depth': 5, 'min_samples_leaf': 4, 'min_samples_split': 10, 'n_estimators': 100}, Точность на тесте: 0.326625\n"
          ]
        }
      ],
      "source": [
        "X = Dataset.drop(columns=['CompTotal Encoded'])\n",
        "y = Dataset['CompTotal Encoded']\n",
        "\n",
        "X_train, X_test, y_train, y_test = train_test_split(X, y, test_size=0.4, random_state=42)\n",
        "\n",
        "# Для решающего дерева\n",
        "decision_tree = DecisionTreeClassifier()\n",
        "dt_params = {\n",
        "    'max_depth': [None, 5, 10, 15, 20],\n",
        "    'min_samples_split': [2, 5, 10],\n",
        "    'min_samples_leaf': [1, 2, 4]\n",
        "}\n",
        "\n",
        "dt_grid_search = GridSearchCV(decision_tree, dt_params, cv=5)\n",
        "dt_grid_search.fit(X_train, y_train)\n",
        "\n",
        "y_pred_dt = dt_grid_search.predict(X_test)\n",
        "accuracy_dt = accuracy_score(y_test, y_pred_dt)\n",
        "\n",
        "print(f\"Decision Tree - Лучшее значение параметра: {dt_grid_search.best_params_}, Точность на тесте: {accuracy_dt}\")\n",
        "\n",
        "# Для случайного леса\n",
        "random_forest = RandomForestClassifier()\n",
        "rf_params = {\n",
        "    'n_estimators': [50, 100, 150, 200],\n",
        "    'max_depth': [None, 5, 10, 15],\n",
        "    'min_samples_split': [2, 5, 10],\n",
        "    'min_samples_leaf': [1, 2, 4]\n",
        "}\n",
        "\n",
        "rf_grid_search = GridSearchCV(random_forest, rf_params, cv=5)\n",
        "rf_grid_search.fit(X_train, y_train)\n",
        "\n",
        "y_pred_rf = rf_grid_search.predict(X_test)\n",
        "accuracy_rf = accuracy_score(y_test, y_pred_rf)\n",
        "\n",
        "print(f\"Random Forest - Лучшие значения параметров: {rf_grid_search.best_params_}, Точность на тесте: {accuracy_rf}\")\n"
      ]
    },
    {
      "cell_type": "markdown",
      "id": "2331c5ac-7fe7-44fe-9400-439efdde048e",
      "metadata": {
        "id": "2331c5ac-7fe7-44fe-9400-439efdde048e"
      },
      "source": [
        "### Обучение на лучших параметрах"
      ]
    },
    {
      "cell_type": "code",
      "execution_count": null,
      "id": "f64d8c16-a98b-47d6-84f6-a69aa2e5b812",
      "metadata": {
        "id": "f64d8c16-a98b-47d6-84f6-a69aa2e5b812",
        "outputId": "996cdacf-bf38-4afd-e165-bf3f40bc71ab"
      },
      "outputs": [
        {
          "name": "stdout",
          "output_type": "stream",
          "text": [
            "Decision Tree с лучшими параметрами - Точность на тесте: 0.3355625\n",
            "Classification Report для Decision Tree:\n",
            "              precision    recall  f1-score   support\n",
            "\n",
            "           0       0.33      0.40      0.36      5306\n",
            "           1       0.34      0.35      0.34      5416\n",
            "           2       0.35      0.26      0.30      5278\n",
            "\n",
            "    accuracy                           0.34     16000\n",
            "   macro avg       0.34      0.34      0.33     16000\n",
            "weighted avg       0.34      0.34      0.33     16000\n",
            "\n",
            "Random Forest с лучшими параметрами - Точность на тесте: 0.3345625\n",
            "Classification Report для Random Forest:\n",
            "              precision    recall  f1-score   support\n",
            "\n",
            "           0       0.33      0.38      0.35      5306\n",
            "           1       0.34      0.31      0.32      5416\n",
            "           2       0.33      0.32      0.32      5278\n",
            "\n",
            "    accuracy                           0.33     16000\n",
            "   macro avg       0.33      0.33      0.33     16000\n",
            "weighted avg       0.33      0.33      0.33     16000\n",
            "\n"
          ]
        }
      ],
      "source": [
        "from sklearn.metrics import classification_report\n",
        "\n",
        "# Для решающего дерева\n",
        "best_dt_params = {'max_depth': 20}\n",
        "best_decision_tree = DecisionTreeClassifier(**best_dt_params)\n",
        "best_decision_tree.fit(X_train, y_train)\n",
        "\n",
        "y_pred_best_dt = best_decision_tree.predict(X_test)\n",
        "accuracy_best_dt = accuracy_score(y_test, y_pred_best_dt)\n",
        "\n",
        "print(f\"Decision Tree с лучшими параметрами - Точность на тесте: {accuracy_best_dt}\")\n",
        "print(\"Classification Report для Decision Tree:\")\n",
        "print(classification_report(y_test, y_pred_best_dt))\n",
        "\n",
        "# Для случайного леса\n",
        "best_rf_params = {'max_depth': None, 'n_estimators': 50}\n",
        "best_random_forest = RandomForestClassifier(**best_rf_params)\n",
        "best_random_forest.fit(X_train, y_train)\n",
        "\n",
        "y_pred_best_rf = best_random_forest.predict(X_test)\n",
        "accuracy_best_rf = accuracy_score(y_test, y_pred_best_rf)\n",
        "\n",
        "print(f\"Random Forest с лучшими параметрами - Точность на тесте: {accuracy_best_rf}\")\n",
        "print(\"Classification Report для Random Forest:\")\n",
        "print(classification_report(y_test, y_pred_best_rf))\n"
      ]
    }
  ],
  "metadata": {
    "kernelspec": {
      "display_name": "Python 3 (ipykernel)",
      "language": "python",
      "name": "python3"
    },
    "language_info": {
      "codemirror_mode": {
        "name": "ipython",
        "version": 3
      },
      "file_extension": ".py",
      "mimetype": "text/x-python",
      "name": "python",
      "nbconvert_exporter": "python",
      "pygments_lexer": "ipython3",
      "version": "3.9.12"
    },
    "colab": {
      "provenance": []
    }
  },
  "nbformat": 4,
  "nbformat_minor": 5
}