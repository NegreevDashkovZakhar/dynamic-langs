{
  "cells": [
    {
      "cell_type": "markdown",
      "id": "a235b6ab-4500-42d9-bd83-30352174252f",
      "metadata": {
        "id": "a235b6ab-4500-42d9-bd83-30352174252f"
      },
      "source": [
        "# Лабораторная работа №6\n",
        "## Задание:\n",
        "1 . Провести классификацию найденного датасета, методами CatBoost . В формате Markdown написать пояснения. Объяснить почему были выбраны именно такие гиперпараметры, была ли перекрестная проверка, и т.д."
      ]
    },
    {
      "cell_type": "markdown",
      "id": "8796672a-1db3-48aa-a6ad-5d7ff72c7f5d",
      "metadata": {
        "id": "8796672a-1db3-48aa-a6ad-5d7ff72c7f5d"
      },
      "source": [
        "## Лабораторная работа:\n",
        "### Подключение библиотек\n"
      ]
    },
    {
      "cell_type": "code",
      "execution_count": null,
      "id": "341d81b7-569b-4cd9-84de-7afc92b81874",
      "metadata": {
        "id": "341d81b7-569b-4cd9-84de-7afc92b81874"
      },
      "outputs": [],
      "source": [
        "!pip install catboost\n",
        "\n",
        "import pandas as pd\n",
        "import numpy as np\n",
        "from sklearn.preprocessing import LabelEncoder\n",
        "from sklearn.model_selection import train_test_split, GridSearchCV\n",
        "from sklearn.neighbors import KNeighborsClassifier\n",
        "from sklearn.metrics import accuracy_score, classification_report\n",
        "from catboost import CatBoostClassifier\n"
      ]
    },
    {
      "cell_type": "markdown",
      "id": "1d93ec7d-274b-4fae-bcaa-a96011324a01",
      "metadata": {
        "id": "1d93ec7d-274b-4fae-bcaa-a96011324a01"
      },
      "source": [
        "### Загружаю данные и вывод датасет\n"
      ]
    },
    {
      "cell_type": "code",
      "execution_count": null,
      "id": "3b2bc619-4e42-4173-a1d3-b05a1466b791",
      "metadata": {
        "id": "3b2bc619-4e42-4173-a1d3-b05a1466b791"
      },
      "outputs": [],
      "source": [
        "Dataset = pd.read_csv('survey.csv')"
      ]
    },
    {
      "cell_type": "markdown",
      "id": "71da0e52-d21b-4e38-b4f3-dbd58aa675c6",
      "metadata": {
        "id": "71da0e52-d21b-4e38-b4f3-dbd58aa675c6"
      },
      "source": [
        "### Создание искомого столбца"
      ]
    },
    {
      "cell_type": "code",
      "execution_count": null,
      "id": "eb0a6456-913b-42fc-9991-2fe43ecdeae1",
      "metadata": {
        "id": "eb0a6456-913b-42fc-9991-2fe43ecdeae1"
      },
      "outputs": [],
      "source": [
        "label_encoder = LabelEncoder()\n",
        "Dataset['CompTotal Encoded'] = label_encoder.fit_transform(Dataset['CompTotal'])"
      ]
    },
    {
      "cell_type": "markdown",
      "id": "3e5e7a43-a32f-4057-91d5-681b2b766c20",
      "metadata": {
        "id": "3e5e7a43-a32f-4057-91d5-681b2b766c20"
      },
      "source": [
        "### Очистка данных"
      ]
    },
    {
      "cell_type": "code",
      "execution_count": null,
      "id": "b9689131-3a6a-408f-b51c-0c12106c169e",
      "metadata": {
        "id": "b9689131-3a6a-408f-b51c-0c12106c169e"
      },
      "outputs": [],
      "source": [
        "non_numeric_columns = Dataset.select_dtypes(exclude=['number']).columns.tolist()\n",
        "Dataset = Dataset.drop(columns=non_numeric_columns)\n",
        "\n",
        "# Заполнение пустых значений средними значениями\n",
        "columns_to_fill = Dataset.select_dtypes(include=['number']).columns.tolist()\n",
        "for column in columns_to_fill:\n",
        "    mean_value = Dataset[column].mean()\n",
        "    Dataset[column].fillna(mean_value, inplace=True)"
      ]
    },
    {
      "cell_type": "markdown",
      "id": "d14458c9-4f79-4d40-a760-7698d215aac7",
      "metadata": {
        "id": "d14458c9-4f79-4d40-a760-7698d215aac7"
      },
      "source": [
        "### Поиск лучших метрик и лучших количества соседей"
      ]
    },
    {
      "cell_type": "code",
      "execution_count": null,
      "id": "f2695c1b-fc45-414c-8d12-d2973950b3c4",
      "metadata": {
        "id": "f2695c1b-fc45-414c-8d12-d2973950b3c4",
        "outputId": "178bead0-8210-4f4b-8306-ace6afb2d6b2"
      },
      "outputs": [
        {
          "name": "stdout",
          "output_type": "stream",
          "text": [
            "Лучшие параметры для CatBoost: {'depth': 4, 'iterations': 200, 'learning_rate': 0.05}\n"
          ]
        }
      ],
      "source": [
        "X = Dataset.drop(columns=['CompTotal Encoded'])\n",
        "y = Dataset['CompTotal Encoded']\n",
        "\n",
        "X_train, X_test, y_train, y_test = train_test_split(X, y, test_size=0.4, random_state=42)\n",
        "\n",
        "# Параметры для настройки CatBoost\n",
        "catboost_params = {\n",
        "    'iterations': [100, 200, 300],\n",
        "    'learning_rate': [0.01, 0.05, 0.1],\n",
        "    'depth': [4, 6, 8]\n",
        "}\n",
        "\n",
        "# Создание модели CatBoost\n",
        "catboost_model = CatBoostClassifier(verbose=False)\n",
        "\n",
        "# Подбор лучших параметров с помощью GridSearchCV\n",
        "catboost_grid_search = GridSearchCV(catboost_model, catboost_params, cv=5)\n",
        "catboost_grid_search.fit(X_train, y_train)\n",
        "\n",
        "# Лучшие параметры\n",
        "best_catboost_params = catboost_grid_search.best_params_\n",
        "print(f\"Лучшие параметры для CatBoost: {best_catboost_params}\")\n"
      ]
    },
    {
      "cell_type": "markdown",
      "id": "9e299958-c745-4e2e-b871-4d648e6e2510",
      "metadata": {
        "id": "9e299958-c745-4e2e-b871-4d648e6e2510"
      },
      "source": [
        "#### Обучение на лучших метриках и количестве соседей"
      ]
    },
    {
      "cell_type": "code",
      "execution_count": null,
      "id": "e2aff059-42b7-48f1-9f1a-f0f2604dfa18",
      "metadata": {
        "id": "e2aff059-42b7-48f1-9f1a-f0f2604dfa18",
        "outputId": "fefb4dc6-ab0c-4bd7-a419-886fd851f343"
      },
      "outputs": [
        {
          "name": "stdout",
          "output_type": "stream",
          "text": [
            "Точность CatBoost на тестовых данных: 0.32875\n",
            "Classification Report для CatBoost:\n",
            "              precision    recall  f1-score   support\n",
            "\n",
            "           0       0.33      0.40      0.36      5306\n",
            "           1       0.34      0.22      0.26      5416\n",
            "           2       0.33      0.37      0.35      5278\n",
            "\n",
            "    accuracy                           0.33     16000\n",
            "   macro avg       0.33      0.33      0.32     16000\n",
            "weighted avg       0.33      0.33      0.32     16000\n",
            "\n"
          ]
        }
      ],
      "source": [
        "# Переобучение модели с лучшими параметрами на всем тренировочном наборе данных\n",
        "best_catboost_model = CatBoostClassifier(**best_catboost_params, verbose=False)\n",
        "best_catboost_model.fit(X_train, y_train)\n",
        "\n",
        "# Предсказание на тестовых данных\n",
        "y_pred_catboost = best_catboost_model.predict(X_test)\n",
        "\n",
        "# Оценка точности\n",
        "accuracy_catboost = accuracy_score(y_test, y_pred_catboost)\n",
        "print(f\"Точность CatBoost на тестовых данных: {accuracy_catboost}\")\n",
        "\n",
        "# Отчет о классификации для CatBoost\n",
        "print(\"Classification Report для CatBoost:\")\n",
        "print(classification_report(y_test, y_pred_catboost))"
      ]
    }
  ],
  "metadata": {
    "kernelspec": {
      "display_name": "Python 3 (ipykernel)",
      "language": "python",
      "name": "python3"
    },
    "language_info": {
      "codemirror_mode": {
        "name": "ipython",
        "version": 3
      },
      "file_extension": ".py",
      "mimetype": "text/x-python",
      "name": "python",
      "nbconvert_exporter": "python",
      "pygments_lexer": "ipython3",
      "version": "3.9.12"
    },
    "colab": {
      "provenance": []
    }
  },
  "nbformat": 4,
  "nbformat_minor": 5
}