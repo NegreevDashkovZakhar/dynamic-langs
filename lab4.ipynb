{
  "cells": [
    {
      "cell_type": "markdown",
      "id": "aab26f62-6a84-410d-94e5-652cc7cc4017",
      "metadata": {
        "id": "aab26f62-6a84-410d-94e5-652cc7cc4017"
      },
      "source": [
        "# Лабораторная работа №4\n",
        "## Задание:\n",
        "1 . Провести классификацию найденного датасета, методами наивного Байеса  . В формате Markdown написать пояснения. Объяснить почему были выбраны именно такие гиперпараметры, была ли перекрестная проверка, и т.д."
      ]
    },
    {
      "cell_type": "markdown",
      "id": "46b2f1a3-3ad3-4c8b-8745-a5682f9fb8cd",
      "metadata": {
        "id": "46b2f1a3-3ad3-4c8b-8745-a5682f9fb8cd"
      },
      "source": [
        "## Лабораторная работа:\n",
        "#### Подключение библиотек\n"
      ]
    },
    {
      "cell_type": "code",
      "execution_count": null,
      "id": "fc5d0a36-6ac8-4c4f-bb7d-ec0b65a8db3e",
      "metadata": {
        "id": "fc5d0a36-6ac8-4c4f-bb7d-ec0b65a8db3e"
      },
      "outputs": [],
      "source": [
        "import pandas as pd\n",
        "import numpy as np\n",
        "from sklearn.preprocessing import LabelEncoder\n",
        "from sklearn.model_selection import train_test_split, GridSearchCV\n",
        "from sklearn.naive_bayes import GaussianNB, BernoulliNB, MultinomialNB\n",
        "from sklearn.metrics import accuracy_score, classification_report\n",
        "from imblearn.under_sampling import RandomUnderSampler"
      ]
    },
    {
      "cell_type": "markdown",
      "id": "4483eecd-728b-42c9-bfde-4e81da683ee5",
      "metadata": {
        "id": "4483eecd-728b-42c9-bfde-4e81da683ee5"
      },
      "source": [
        "#### Загрузка данных\n"
      ]
    },
    {
      "cell_type": "code",
      "execution_count": null,
      "id": "746b6eaa-a9fd-4968-9e13-6e72a9403754",
      "metadata": {
        "id": "746b6eaa-a9fd-4968-9e13-6e72a9403754"
      },
      "outputs": [],
      "source": [
        "Dataset = pd.read_csv('survey.csv')"
      ]
    },
    {
      "cell_type": "markdown",
      "id": "a141c256-e55a-43a4-ad98-343e728d7fd1",
      "metadata": {
        "id": "a141c256-e55a-43a4-ad98-343e728d7fd1"
      },
      "source": [
        "### Создание искомого столбца"
      ]
    },
    {
      "cell_type": "code",
      "execution_count": null,
      "id": "86b1028e-7229-4d20-8ddd-07c86626459b",
      "metadata": {
        "id": "86b1028e-7229-4d20-8ddd-07c86626459b"
      },
      "outputs": [],
      "source": [
        "label_encoder = LabelEncoder()\n",
        "Dataset['CompTotal Encoded'] = label_encoder.fit_transform(Dataset['CompTotal'])"
      ]
    },
    {
      "cell_type": "markdown",
      "id": "a530f51c-02aa-48d7-a398-cfcfb15e1c25",
      "metadata": {
        "id": "a530f51c-02aa-48d7-a398-cfcfb15e1c25"
      },
      "source": [
        "### Очистка данных"
      ]
    },
    {
      "cell_type": "code",
      "execution_count": null,
      "id": "8ea23b0c-6cb0-4e47-b85d-bb2e942e4a62",
      "metadata": {
        "id": "8ea23b0c-6cb0-4e47-b85d-bb2e942e4a62"
      },
      "outputs": [],
      "source": [
        "non_numeric_columns = Dataset.select_dtypes(exclude=['number']).columns.tolist()\n",
        "Dataset = Dataset.drop(columns=non_numeric_columns)\n",
        "\n",
        "# Заполнение пустых значений средними значениями\n",
        "columns_to_fill = Dataset.select_dtypes(include=['number']).columns.tolist()\n",
        "for column in columns_to_fill:\n",
        "    mean_value = Dataset[column].mean()\n",
        "    Dataset[column].fillna(mean_value, inplace=True)"
      ]
    },
    {
      "cell_type": "markdown",
      "id": "346c7ebb-f0e7-4938-8552-bac79ac97f7d",
      "metadata": {
        "id": "346c7ebb-f0e7-4938-8552-bac79ac97f7d"
      },
      "source": [
        "### Поиск лучших параметров"
      ]
    },
    {
      "cell_type": "code",
      "execution_count": null,
      "id": "9faafc49-a602-41d2-9eb1-453cd5bb3aa4",
      "metadata": {
        "id": "9faafc49-a602-41d2-9eb1-453cd5bb3aa4",
        "outputId": "3f784e1e-0271-4993-a337-9d87c9376c8c"
      },
      "outputs": [
        {
          "name": "stdout",
          "output_type": "stream",
          "text": [
            "Лучшая модель: GaussianNB\n",
            "Лучшие параметры: {'alpha': 0.1, 'binarize': 0.0}\n"
          ]
        }
      ],
      "source": [
        "X = Dataset.drop('CompTotal Encoded', axis=1)\n",
        "y = Dataset['CompTotal Encoded']\n",
        "\n",
        "X_train, X_test, y_train, y_test = train_test_split(X, y, test_size=0.4, random_state=42)\n",
        "\n",
        "\n",
        "under_sampler = RandomUnderSampler(random_state=42)\n",
        "\n",
        "\n",
        "X_resampled, y_resampled = under_sampler.fit_resample(X_train, y_train)\n",
        "\n",
        "\n",
        "# Определение методов наивного байеса\n",
        "naive_bayes_models = {\n",
        "    'GaussianNB': GaussianNB(),\n",
        "    'MultinomialNB': MultinomialNB(),\n",
        "    'BernoulliNB': BernoulliNB(),\n",
        "}\n",
        "\n",
        "# Параметры для GridSearchCV\n",
        "param_grid = {\n",
        "    'GaussianNB': {},\n",
        "    'MultinomialNB': {'alpha': [0.1, 0.5, 1.0]},\n",
        "    'BernoulliNB': {'alpha': [0.1, 0.5, 1.0], 'binarize': [0.0, 0.1, 0.2]},\n",
        "}\n",
        "\n",
        "# Выбор метрики для оценки моделей\n",
        "scoring_metric = 'accuracy'\n",
        "\n",
        "# Обучение и оценка моделей с использованием GridSearchCV\n",
        "best_models = {}\n",
        "for model_name, model in naive_bayes_models.items():\n",
        "    grid_search = GridSearchCV(model, param_grid[model_name], scoring=scoring_metric, cv=5)\n",
        "    grid_search.fit(X_resampled, y_resampled)\n",
        "\n",
        "    best_models[model_name] = grid_search.best_estimator_\n",
        "# Оценка наилучшей модели на тестовом наборе\n",
        "best_model_name = max(best_models, key=lambda k: grid_search.cv_results_['mean_test_score'][grid_search.best_index_])\n",
        "best_model = best_models[best_model_name]\n",
        "\n",
        "\n",
        "# Вывод результатов\n",
        "print(f\"Лучшая модель: {best_model_name}\")\n",
        "print(f\"Лучшие параметры: {grid_search.best_params_}\")\n"
      ]
    },
    {
      "cell_type": "markdown",
      "id": "7937ee07-86c8-43ba-8782-d3b6bf14d2aa",
      "metadata": {
        "id": "7937ee07-86c8-43ba-8782-d3b6bf14d2aa"
      },
      "source": [
        "### Обучение на лучших гиперпараметрах"
      ]
    },
    {
      "cell_type": "code",
      "execution_count": null,
      "id": "f4cf8c00-5339-4226-af10-afe3f428306d",
      "metadata": {
        "id": "f4cf8c00-5339-4226-af10-afe3f428306d",
        "outputId": "d2e168fa-7ee6-4c0f-f05e-a09f7671727a"
      },
      "outputs": [
        {
          "name": "stdout",
          "output_type": "stream",
          "text": [
            "Точность модели: 0.3333125\n",
            "              precision    recall  f1-score   support\n",
            "\n",
            "           0       0.33      0.27      0.30      5306\n",
            "           1       0.34      0.39      0.36      5416\n",
            "           2       0.33      0.33      0.33      5278\n",
            "\n",
            "    accuracy                           0.33     16000\n",
            "   macro avg       0.33      0.33      0.33     16000\n",
            "weighted avg       0.33      0.33      0.33     16000\n",
            "\n"
          ]
        }
      ],
      "source": [
        "# Retrain the best model on the entire dataset\n",
        "best_model.fit(X_resampled, y_resampled)\n",
        "\n",
        "# Make predictions on the entire dataset\n",
        "y_pred_full = best_model.predict(X_test)\n",
        "accuracy = accuracy_score(y_test, y_pred_full)\n",
        "classification_rep = classification_report(y_test, y_pred_full)\n",
        "print(f'Точность модели: {accuracy}')\n",
        "print(classification_rep)"
      ]
    },
    {
      "cell_type": "code",
      "execution_count": null,
      "id": "f59a05f8-affc-4ccc-9c09-c5c43585c741",
      "metadata": {
        "id": "f59a05f8-affc-4ccc-9c09-c5c43585c741"
      },
      "outputs": [],
      "source": []
    },
    {
      "cell_type": "code",
      "execution_count": null,
      "id": "07618228-0e4c-44c8-a989-0f5814992ee3",
      "metadata": {
        "id": "07618228-0e4c-44c8-a989-0f5814992ee3"
      },
      "outputs": [],
      "source": []
    },
    {
      "cell_type": "code",
      "execution_count": null,
      "id": "55182458-fc8f-4432-ac09-41f4eec70268",
      "metadata": {
        "id": "55182458-fc8f-4432-ac09-41f4eec70268"
      },
      "outputs": [],
      "source": []
    }
  ],
  "metadata": {
    "kernelspec": {
      "display_name": "Python 3 (ipykernel)",
      "language": "python",
      "name": "python3"
    },
    "language_info": {
      "codemirror_mode": {
        "name": "ipython",
        "version": 3
      },
      "file_extension": ".py",
      "mimetype": "text/x-python",
      "name": "python",
      "nbconvert_exporter": "python",
      "pygments_lexer": "ipython3",
      "version": "3.9.12"
    },
    "colab": {
      "provenance": []
    }
  },
  "nbformat": 4,
  "nbformat_minor": 5
}